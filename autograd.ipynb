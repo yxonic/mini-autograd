{
 "cells": [
  {
   "cell_type": "code",
   "execution_count": 1,
   "metadata": {},
   "outputs": [],
   "source": [
    "import numpy as np"
   ]
  },
  {
   "cell_type": "code",
   "execution_count": 2,
   "metadata": {},
   "outputs": [],
   "source": [
    "class Variable:\n",
    "    def __init__(self, array):\n",
    "        self._array = np.asarray(array)\n",
    "        self._op = None\n",
    "        self._inputs = []\n",
    "        self.grad = None\n",
    "\n",
    "    def __str__(self):\n",
    "        return str(self._array)\n",
    "    \n",
    "    def __repr__(self):\n",
    "        return 'Variable(' + str(self) + ')'\n",
    "\n",
    "    def __add__(self, other):\n",
    "        return AddOp.apply(self, other)\n",
    "\n",
    "    def __sub__(self, other):\n",
    "        return SubOp.apply(self, other)\n",
    "\n",
    "    def __mul__(self, other):\n",
    "        return MulOp.apply(self, other)\n",
    "    \n",
    "    def mean(self):\n",
    "        return MeanOp.apply(self)\n",
    "    \n",
    "    def backward(self, grad=None):\n",
    "        if grad is None:\n",
    "            grad = np.array(1)\n",
    "        if self._op is None:\n",
    "            if self.grad is None:\n",
    "                self.grad = np.zeros_like(self._array)\n",
    "            self.grad += grad\n",
    "            return\n",
    "        grads = self._op.backward(self, grad)\n",
    "        for v, g in zip(self._inputs, grads):\n",
    "            v.backward(g)"
   ]
  },
  {
   "cell_type": "code",
   "execution_count": 3,
   "metadata": {},
   "outputs": [],
   "source": [
    "class Function:\n",
    "    @classmethod\n",
    "    def apply(cls, *inputs):\n",
    "        v = cls.forward(*inputs)\n",
    "        v._op = cls\n",
    "        v._inputs = inputs\n",
    "        return v\n",
    "\n",
    "class AddOp(Function):\n",
    "    @staticmethod\n",
    "    def forward(a, b):\n",
    "        return Variable(a._array + b._array)\n",
    "    @staticmethod\n",
    "    def backward(y, grad):\n",
    "        return grad, grad\n",
    "    \n",
    "class MulOp(Function):\n",
    "    @staticmethod\n",
    "    def forward(a, b):\n",
    "        return Variable(a._array * b._array)\n",
    "    @staticmethod\n",
    "    def backward(y, grad):\n",
    "        return grad * y._inputs[1]._array, grad * y._inputs[0]._array   \n",
    "\n",
    "class SubOp(Function):\n",
    "    @staticmethod\n",
    "    def forward(a, b):\n",
    "        return Variable(a._array - b._array)\n",
    "    @staticmethod\n",
    "    def backward(y, grad):\n",
    "        return grad, -grad\n",
    "\n",
    "class MeanOp(Function):\n",
    "    @staticmethod\n",
    "    def forward(a):\n",
    "        return Variable(a._array.mean())\n",
    "    @staticmethod\n",
    "    def backward(y, grad):\n",
    "        return (grad / y._inputs[0]._array.size,)"
   ]
  },
  {
   "cell_type": "code",
   "execution_count": 4,
   "metadata": {},
   "outputs": [
    {
     "data": {
      "text/plain": [
       "Variable(2.2772)"
      ]
     },
     "execution_count": 4,
     "metadata": {},
     "output_type": "execute_result"
    }
   ],
   "source": [
    "x = Variable([0.3, 0.4])\n",
    "W = Variable([0.4, 0.5])\n",
    "b = Variable([0.5, -0.3])\n",
    "y = Variable([1., 2.])\n",
    "l = ((W * x + b - y) * (W * x + b - y)).mean()\n",
    "l"
   ]
  },
  {
   "cell_type": "code",
   "execution_count": 5,
   "metadata": {},
   "outputs": [],
   "source": [
    "l.backward()"
   ]
  },
  {
   "cell_type": "code",
   "execution_count": 6,
   "metadata": {},
   "outputs": [
    {
     "data": {
      "text/plain": [
       "array([-0.114, -0.84 ])"
      ]
     },
     "execution_count": 6,
     "metadata": {},
     "output_type": "execute_result"
    }
   ],
   "source": [
    "W.grad"
   ]
  },
  {
   "cell_type": "code",
   "execution_count": 7,
   "metadata": {},
   "outputs": [
    {
     "data": {
      "text/plain": [
       "array([-0.38, -2.1 ])"
      ]
     },
     "execution_count": 7,
     "metadata": {},
     "output_type": "execute_result"
    }
   ],
   "source": [
    "b.grad"
   ]
  }
 ],
 "metadata": {
  "kernelspec": {
   "display_name": "Python 3",
   "language": "python",
   "name": "python3"
  },
  "language_info": {
   "codemirror_mode": {
    "name": "ipython",
    "version": 3
   },
   "file_extension": ".py",
   "mimetype": "text/x-python",
   "name": "python",
   "nbconvert_exporter": "python",
   "pygments_lexer": "ipython3",
   "version": "3.6.5"
  }
 },
 "nbformat": 4,
 "nbformat_minor": 2
}
